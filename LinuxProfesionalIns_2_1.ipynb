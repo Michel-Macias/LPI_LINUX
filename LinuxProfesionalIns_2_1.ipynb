{
 "cells": [
  {
   "attachments": {},
   "cell_type": "markdown",
   "metadata": {},
   "source": [
    "# Tema 2: Encontrando el camino en un sistema Linux\n",
    "\n",
    "### 2.1 Aspectos básicos de la línea de comandos\n",
    "\n"
   ]
  }
 ],
 "metadata": {
  "language_info": {
   "name": "python"
  },
  "orig_nbformat": 4
 },
 "nbformat": 4,
 "nbformat_minor": 2
}
