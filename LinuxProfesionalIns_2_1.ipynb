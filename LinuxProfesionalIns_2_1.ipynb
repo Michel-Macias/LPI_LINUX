{
 "cells": [
  {
   "attachments": {},
   "cell_type": "markdown",
   "metadata": {},
   "source": [
    "# 2.2 Uso de la línea de comandos para obtener ayuda\n",
    "\n",
    "### EJERCICIOS Y PREGUNTAS\n",
    "\n",
    "### 1. **Use el comando man para averiguar qué hace cada comando**\n",
    "\n",
    "| Comando | Descripción |\n",
    "|---------|-------------|\n",
    "| ls | Mostrar contenido directorio |\n",
    "| cat | Concatena archivos y los muestra por la salida estándar |\n",
    "| cut | Elimina fragmentos en cada línea de un archivo |\n",
    "| cd | Change directory *no tiene manual*|\n",
    "| cp | Copia archivos y directorios |\n",
    "| mv | Mueve o renombra files |\n",
    "| mkdir | Make directory |\n",
    "| touch | Cambia la fecha de un file, *si no existe se crea* |\n",
    "| wc | imprime  el  número  de  líneas, de palabras o de byte de un archivo |\n",
    "| passwd | Change user password |\n",
    "| rm | remove **Borra files & folders** |\n",
    "| rmdir | Borra directorios *vacios* |\n",
    "| more | Muestra la salida por páginas |\n",
    "| less | Similar a *more* pero más funcional |\n",
    "| whereis | Localice los archivos binarios, de origen y de página de manual para un dominio |\n",
    "| head | Muestra las primeras líneas de un file |\n",
    "| tail | Muestra las últimas líneas de un file |\n",
    "| sort | Ordena las líneas de un text file |\n",
    "| tr | Traduce y/o elimina caracteres |\n",
    "| chmod | Modifica los file permissions |\n",
    "| grep | Busca patrones en un file |\n"
   ]
  },
  {
   "attachments": {},
   "cell_type": "markdown",
   "metadata": {},
   "source": [
    "### 2. Abra la página de información del comando **ls** e identifique el *MENU*\n",
    "\n",
    "**¿Qué opciones tiene?**\n",
    "\n",
    "- Which files are listed\n",
    "- What information is listed\n",
    "- Sorting the output\n",
    "- General output formatting\n",
    "- Formatting file timestamps\n",
    "- Formatting the file names\n",
    "\n",
    "**Encuentre la opción que le permite ordenar por tiempo de modificación.**\n",
    "- ls -t"
   ]
  },
  {
   "attachments": {},
   "cell_type": "markdown",
   "metadata": {},
   "source": [
    "### 3. Muestre la ruta de los primeros 3 archivos README. Use el comando man para identificar la opción correcta para locate\n",
    "\n",
    "- Primero debemos actualizar la base de datos para incluir los últimos files con *updatedb*\n",
    "- Después le pasamos *locate -b '\\README' | head -n 3*\n",
    "- Este comando buscará todos los archivos que contengan la cadena \"README\" en su nombre en la base de datos de \"locate\", y luego la salida se enviará a la entrada estándar de la siguiente orden \"head\" que mostrará solo las primeras 3 líneas del resultado."
   ]
  },
  {
   "attachments": {},
   "cell_type": "markdown",
   "metadata": {},
   "source": [
    "### 4.Cree un archivo llamado test en su directorio de inicio. Encuentre su ruta absoluta con el comando locate.\n",
    "\n",
    "- Crea el file **test.txt** con el comando touch\n",
    "- Si le pasas *locate test.txt* no te devuelve nada. Que ha pasado? Porqué no sale?\n",
    "- NO has actualizado con *updatedb*. \n",
    "- Después de actualizar la bbdd ya nos devuelve su ruta absoluta"
   ]
  },
  {
   "attachments": {},
   "cell_type": "markdown",
   "metadata": {},
   "source": [
    "### 5.Busque el archivo de prueba que creó anteriormente, utilizando el comando find. ¿Qué sintaxis uso y cuál es la ruta absoluta?\n",
    "\n",
    "- sudo find / -iname \"test.txt\"\n",
    "- Si le pasamos el comando **time** antes de cada opción, tanto en locate como con find, nos damos cuenta que con locate es mucho mas rápido. "
   ]
  },
  {
   "attachments": {},
   "cell_type": "markdown",
   "metadata": {},
   "source": [
    "## Ejercicios exploratorios\n",
    "\n",
    "### 1.Hay un comando en la tabla anterior que no tiene una página man. ¿Cuál es y por qué cree que el comando no tiene una página de manual?\n",
    "\n",
    "- El comando `cd` en bash, que se utiliza para cambiar de directorio, es un comando interno (built-in) del propio intérprete de comandos bash. Al ser parte del intérprete, no tiene una página de manual independiente como otros comandos externos.\n",
    "\n",
    "- Los comandos internos son implementados directamente dentro del intérprete de comandos, en este caso, bash. Esto significa que no se trata de programas independientes que se ejecuten por sí mismos, sino de funcionalidades incorporadas en el intérprete de comandos mismo.\n",
    "\n",
    "- Como el comando `cd` es una característica básica y esencial de bash, la documentación y las explicaciones sobre cómo utilizarlo se encuentran generalmente en la documentación general de bash o en el manual de referencia de bash. Puedes acceder a la página de manual de bash ejecutando `man bash` en tu terminal, donde encontrarás información detallada sobre el uso del comando `cd` y otros comandos internos de bash.\n",
    "\n",
    "- Si bien el comando `cd` no tiene su propia página de manual separada, sigue siendo una parte fundamental y ampliamente utilizada de la funcionalidad de bash para la navegación y gestión de directorios.\n",
    "\n",
    "### 2.Muestre en la pantalla el directorio de trabajo actual, incluidas las subcarpetas.\n",
    "$ ls -R\n",
    "\n",
    "### 3.Busque dentro del árbol todos los archivos que terminan con un número., Busque en el árbol todos los archivos que terminen con un número.\n",
    "$ find ~ -name \"*[0-9]\"\n",
    "$ locate \"*[0-9]\"\n",
    "\n",
    "### 4.Elimine todo el árbol de directorios con un solo comando\n",
    "$ rm -R Directorio Test test.txt "
   ]
  },
  {
   "attachments": {},
   "cell_type": "markdown",
   "metadata": {},
   "source": [
    "## Resumen\n",
    "\n",
    "*En esta lección usted aprendió:*\n",
    "\n",
    "- Cómo obtener ayuda?\n",
    "- Usar el comando man\n",
    "- Navegar por la página man\n",
    "- Diferentes secciones de la página man\n",
    "- Usar el comando info\n",
    "- Navegar entre diferentes nodos\n",
    "- Buscar archivos dentro del sistema\n",
    "\n",
    "Comandos utilizados en los ejercicios:\n",
    "- man **Muestra una página de manual.**\n",
    "- info **Muestra una página de información.**\n",
    "- locate **Busca en la base de datos locate archivos con un nombre específico.**\n",
    "- find **Busca en el sistema de archivos nombres que coincidan con un conjunto de criterios seleccionados.**\n",
    "- updatedb **Actualiza la base de datos locate**"
   ]
  },
  {
   "attachments": {},
   "cell_type": "markdown",
   "metadata": {},
   "source": [
    "# 2.1 Aspectos básicos de la línea de comandos\n",
    "## Ejercicios guiados\n",
    "\n",
    "### 1. Cree una variable local number.\n",
    "$ number=5"
   ]
  },
  {
   "attachments": {},
   "cell_type": "markdown",
   "metadata": {},
   "source": [
    "### 2. Cree una variable de entorno ORDER, utilizando uno de los métodos anteriores.\n",
    "export ORDER=desc"
   ]
  },
  {
   "attachments": {},
   "cell_type": "markdown",
   "metadata": {},
   "source": [
    "### 3. Muestre los nombres de las variables y sus contenidos.\n",
    "##### echo number    ----> No lleva comillas\n",
    "number\n",
    "##### echo ORDER     ----> Ni el simbolo dolar $, por lo tanto echo devuelve lo que le pasas\n",
    "ORDER\n",
    "##### echo $number   ----> Al pasarle el $ le pedimos que nos de el valor almacenado en esa variable\n",
    "5\n",
    "##### echo $ORDER\n",
    "desc"
   ]
  },
  {
   "attachments": {},
   "cell_type": "markdown",
   "metadata": {},
   "source": [
    "### 4. ¿Cuáles son los ámbitos de las variables creadas anteriormente?\n",
    "- El ámbito de la variable local number es sólo el shell actual.\n",
    "- El ámbito de la variable de entorno ORDER es el shell actual y todos los subshells generados\n",
    "por este."
   ]
  },
  {
   "attachments": {},
   "cell_type": "markdown",
   "metadata": {},
   "source": [
    "## Ejercicios exploratorios\n",
    "\n",
    "### 1. Cree una variable local nr_files y asignele el número de líneas encontradas en el archivo /etc/passwd. Sugerencia: mire el comando wc y la sustitución de comandos, tampoco se olvide de las comillas.\n",
    "\n",
    "´nr_files=\"wc -l /etc/passwd\"´  ----> Al pasar el comando entre comillas asigna a la variable\n",
    " la selida del comando."
   ]
  },
  {
   "attachments": {},
   "cell_type": "markdown",
   "metadata": {},
   "source": [
    "### Resumen\n",
    "\n",
    "En esta lección, usted aprendió:\n",
    "* Tipos de variables\n",
    "* Crear variables\n",
    "* Manipular variables\n",
    "\n",
    "Comandos utilizados en los ejercicios:\n",
    "*env*\n",
    "Muestra las variables de entorno actual.\n",
    "\n",
    "*echo*\n",
    "Salida de texto.\n",
    "\n",
    "*export*\n",
    "Hace que las variables locales estén disponibles para los subprocesos.\n",
    "\n",
    "*unset*\n",
    "Elimina una variable."
   ]
  }
 ],
 "metadata": {
  "kernelspec": {
   "display_name": "Python 3",
   "language": "python",
   "name": "python3"
  },
  "language_info": {
   "codemirror_mode": {
    "name": "ipython",
    "version": 3
   },
   "file_extension": ".py",
   "mimetype": "text/x-python",
   "name": "python",
   "nbconvert_exporter": "python",
   "pygments_lexer": "ipython3",
   "version": "3.10.6"
  },
  "orig_nbformat": 4
 },
 "nbformat": 4,
 "nbformat_minor": 2
}
