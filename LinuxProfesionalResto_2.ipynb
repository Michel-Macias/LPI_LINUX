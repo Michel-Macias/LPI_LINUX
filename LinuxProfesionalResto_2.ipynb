{
 "cells": [
  {
   "attachments": {},
   "cell_type": "markdown",
   "metadata": {},
   "source": [
    "## 3.1 Archivar ficheros desde la línea de comandos"
   ]
  },
  {
   "attachments": {},
   "cell_type": "markdown",
   "metadata": {},
   "source": [
    "#### Introducción"
   ]
  },
  {
   "attachments": {},
   "cell_type": "markdown",
   "metadata": {},
   "source": [
    "La compresión reduce el espacio ocupado por datos y se utiliza para almacenar archivos y enviar datos a través de redes.\n",
    "Reemplaza patrones repetitivos en los datos para reducir su tamaño. La compresión puede ser sin pérdida o con pérdida. Las herramientas de archivo agrupan archivos y directorios en un solo archivo. Las herramientas de compresión comunes en Linux son `bzip2, gzip y xz`. Cada herramienta utiliza algoritmos diferentes y no son intercambiables. La compresión puede llevar más tiempo para patrones complejos. Las herramientas de compresión y archivo en Windows están integradas, mientras que en Linux se deben instalar por separado, como `zip y unzip` para archivos **.zip**."
   ]
  },
  {
   "attachments": {},
   "cell_type": "markdown",
   "metadata": {},
   "source": [
    "#### Herramientas de compresión"
   ]
  },
  {
   "attachments": {},
   "cell_type": "markdown",
   "metadata": {},
   "source": [
    "- La cantidad de espacio en disco que se ahorra al comprimir los archivos depende de varios\n",
    "factores: la naturaleza de los datos que se comprimen, el algoritmo utilizado para comprimir los\n",
    "datos y el nivel de compresión.\n",
    "- No todos los algoritmos admiten diferentes niveles de compresión. Algunas herramientas soportan diferentes niveles de compresión, normalmente un nivel más alto\n",
    "requiere más memoria y ciclos de CPU, pero se obtiene un archivo comprimido más pequeño; lo\n",
    "contrario es cierto para un nivel más bajo.\n",
    "- No es necesario descomprimir un archivo cada vez que se necesite. Las herramientas de\n",
    "compresión, normalmente incluyen versiones especiales de aplicativos que son usados para leer\n",
    "archivos de texto, por ejemplo, `gzip` incluye una versión de `cat, grep, diff, less, more`, etc. Para `gzip`, las herramientas utilizan el prefijo z, mientras que el prefijo bz se usa para `bzip2 y xz` para xz."
   ]
  },
  {
   "attachments": {},
   "cell_type": "markdown",
   "metadata": {},
   "source": [
    "#### Archivadores"
   ]
  },
  {
   "attachments": {},
   "cell_type": "markdown",
   "metadata": {},
   "source": [
    "- El programa tar es probablemente el archivador más utilizado en sistemas Linux. Su nombre\n",
    "proviene de la abreviatura de “tape archive”, ya que los archivos creados con tar se denominan a\n",
    "menudo como tar balls. Es muy común que el código fuente de las aplicaciones se distribuya en\n",
    "tar balls.\n",
    "- Las distribuciones de Linux que incluyen la versión GNU de tar tiene muchas opciones, esta\n",
    "lección cubrirá el subconjunto más utilizado.\n",
    "- La opción c indica a tar que cree un nuevo archivo y la opción f el nombre del archivo a crear. El argumento que sigue después de las opciones siempre será el nombre del archivo con el que se va a trabajar. El resto de los argumentos son las rutas a cualquier fichero o directorio que se desee añadir, listar o extraer del archivo. En el ejemplo, se añade el directorio compression y todo su contenido al archivo comprimido. Para ver el contenido de un archivo creado con tar, se utiliza la opción t"
   ]
  },
  {
   "attachments": {},
   "cell_type": "markdown",
   "metadata": {},
   "source": [
    "<div style=\"text-align:center\">\n",
    "    <img src=\"./tarcaptura.png\" alt=\"Texto alternativo\" width=\"350\">\n",
    "</div>"
   ]
  },
  {
   "attachments": {},
   "cell_type": "markdown",
   "metadata": {},
   "source": [
    "#### Resumen"
   ]
  },
  {
   "attachments": {},
   "cell_type": "markdown",
   "metadata": {},
   "source": [
    "- Los sistemas Linux incluyen varias herramientas de compresión y archivado, esta lección cubre\n",
    "las más comunes. La herramienta de archivado más común es tar. Si es necesario interactuar con\n",
    "sistemas Windows, zip y unzip pueden crear y extraer archivos ZIP.\n",
    "- El comando tar tiene algunas opciones que vale la pena memorizar: x para extraer, c para crear,\n",
    "t para ver el contenido, y u para agregar o reemplazar archivos. La opción v muestra los archivos\n",
    "que son procesados por tar mientras se crea o extrae un archivo.\n",
    "- Generalmente los repositorios de distribuciones de Linux incluyen muchas herramientas de\n",
    "compresión, las más comunes son gzip, bzip2, y xz. Los algoritmos de compresión generalmente\n",
    "soportan diferentes niveles que permiten optimizar el proceso según la velocidad o el tamaño del\n",
    "archivo. Los archivos pueden descomprimirse utilizando gunzip, bunzip2, y unxz.\n",
    "- Las herramientas de compresión generalmente incluyen programas que se comportan como\n",
    "herramientas comunes de archivos de texto, con la diferencia de que funcionan con archivos\n",
    "comprimidos, algunos ejemplos de estas son zcat, bzcat y xzcat. Las herramientas de\n",
    "compresión suelen incluir programas con la funcionalidad de grep, more, less, diff, y cmp.\n",
    "\n",
    "Comandos utilizados en los ejercicios:\n",
    "\n",
    "`bunzip2`\n",
    "- Descomprime un archivo comprimido con bzip2.\n",
    "\n",
    "`bzcat`\n",
    "- Muestra el contenido de un archivo comprimido con bzip.\n",
    "\n",
    "`bzip2`\n",
    "- Comprime archivos usando el algoritmo y formato bzip2.\n",
    "\n",
    "`gunzip`\n",
    "- Descomprime un archivo comprimido con gzip.\n",
    "\n",
    "`gzip`\n",
    "- Comprime archivos usando el algoritmo y formato gzip.\n",
    "\n",
    "`unxz`\n",
    "- Descomprime archivos comprimidos con xz.\n",
    "\n",
    "`unzip`\n",
    "- Descomprime y extrae el contenido de un archivo ZIP.\n",
    "\n",
    "`xz`\n",
    "- Comprime archivos usando el algoritmo y formato xz.\n",
    "\n",
    "`zcat`\n",
    "- Muestra el contenido de un archivo comprimido con gzip.\n",
    "\n",
    "`zip`\n",
    "- Crea y comprime archivos ZIP."
   ]
  }
 ],
 "metadata": {
  "language_info": {
   "name": "python"
  },
  "orig_nbformat": 4
 },
 "nbformat": 4,
 "nbformat_minor": 2
}
