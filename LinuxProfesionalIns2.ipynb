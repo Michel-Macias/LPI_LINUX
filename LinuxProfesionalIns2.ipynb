{
 "cells": [
  {
   "attachments": {},
   "cell_type": "markdown",
   "metadata": {},
   "source": [
    "# Linux Profesional Institute\n",
    "\n",
    "## 1.4 Destrezas TIC y el trabajo con Linux\n",
    "\n",
    "**Áreas de conocimiento clave**\n",
    "*    Destrezas en el escritorio\n",
    "*    Iniciación a la línea de comandos\n",
    "*    Usos de Linux en la Industria, Cloud Computing y Virtualización\n",
    "\n",
    "**Lista parcial de archivos, términos y utilidades**\n",
    "*    Uso del navegador, preocupaciones en torno a la privacidad, opciones de configuración,\n",
    "búsquedas en la web y almacenamiento de contenido\n",
    "*    La terminal y la consola\n",
    "*    Problemas relacionados con las contraseñas\n",
    "*    Problemas y herramientas relacionadas con la privacidad\n",
    "*    Uso de aplicaciones de código abierto comunes en presentaciones y proyectos"
   ]
  }
 ],
 "metadata": {
  "language_info": {
   "name": "python"
  },
  "orig_nbformat": 4
 },
 "nbformat": 4,
 "nbformat_minor": 2
}
