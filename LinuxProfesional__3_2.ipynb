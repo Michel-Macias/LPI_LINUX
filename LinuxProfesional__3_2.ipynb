{
 "cells": [
  {
   "attachments": {},
   "cell_type": "markdown",
   "metadata": {},
   "source": [
    "# 3.2 Buscar y extraer datos de los ficheros"
   ]
  },
  {
   "attachments": {},
   "cell_type": "markdown",
   "metadata": {},
   "source": [
    "#### Áreas de conocimiento clave\n",
    "\n",
    "- Tuberías en la línea de comandos\n",
    "- Re-dirección de Entrada/Salida\n",
    "- Expresiones Regulares básicas usando ., [ ], *, y ?\n",
    "\n",
    "#### Lista parcial de archivos, términos y utilidades\n",
    "\n",
    "- grep\n",
    "- less\n",
    "- cat, head, tail\n",
    "- sort\n",
    "- cut\n",
    "- wc   "
   ]
  },
  {
   "attachments": {},
   "cell_type": "markdown",
   "metadata": {},
   "source": [
    "## Ejercicios guiados"
   ]
  },
  {
   "attachments": {},
   "cell_type": "markdown",
   "metadata": {},
   "source": [
    "1. Liste el contenido del directorio actual, incluyendo la propiedad y los permisos, y redirija la salida a un fichero llamado contents.txt dentro del directorio home del usuario.\n",
    "\n",
    "`ls -lah > contents.txt`\n",
    "\n",
    "2. Ordene el contenido del archivo contents.txt de su directorio actual y añádalo al final de un\n",
    "nuevo archivo llamado contents-sorted.txt.\n",
    "\n",
    "`sort contents.txt >> contents-sorted.txt`\n",
    "\n",
    "3. Muestre las últimas 10 líneas del fichero /etc/passwd y rediríjalas a un nuevo fichero en el\n",
    "directorio Documents de su usuario.\n",
    "\n",
    "`tail -n 10 /etc/passwd > /Documentos/newfile`\n",
    "\n",
    "\n",
    "4. Cuente el número de palabras dentro del archivo contents.txt y agregue la salida al final de\n",
    "un archivo field2.txt en su directorio de inicio. Deberá utilizar la redirección de entrada y\n",
    "salida.\n",
    "\n",
    "`wc < contents.txt >> field2.txt`\n",
    "\n",
    "5. Muestre las primeras 5 líneas del fichero /etc/passwd y ordene la salida en orden alfabético.\n",
    "\n",
    "`head -n 5 /etc/passwd | sort -r`\n",
    "\n",
    "6. Usando el archivo contents.txt creado anteriormente, cuente el número de caracteres de las\n",
    "últimas 9 líneas.\n",
    "\n",
    "`tail -n 9 contents.txt | wc -c`\n",
    "\n",
    "7. Cuente la cantidad de ficheros llamados test dentro del directorio /usr/share y sus\n",
    "subdirectorios. Nota: cada salida de línea del comando find representa un fichero.\n",
    "\n",
    "`find /usr/share -name test | wc -l`\n"
   ]
  },
  {
   "attachments": {},
   "cell_type": "markdown",
   "metadata": {},
   "source": [
    "## Respuestas a los ejercicios exploratorios"
   ]
  },
  {
   "attachments": {},
   "cell_type": "markdown",
   "metadata": {},
   "source": [
    "1. Seleccione el segundo campo del fichero contents.txt y redirija la salida estándar y la salida\n",
    "de error a otro fichero llamado field1.txt.\n",
    "\n",
    "`cut -f 2 -d \" \" contents.txt &> field1.txt`\n",
    "\n",
    "2. Usando el operador de redirección de entrada y el comando tr, elimine los guiones (-) del\n",
    "fichero contents.txt.\n",
    "\n",
    "`tr -d \"-\" < contents.txt`\n",
    "\n",
    "3. ¿Cuál es la mayor ventaja de solo redirigir errores a un fichero?\n",
    "\n",
    "Redirigir solo los errores a un archivo proporciona una forma más eficiente de gestionar y analizar los mensajes de error generados por comandos o programas, permitiendo una depuración más efectiva y mejorando la legibilidad de la salida estándar.\n",
    "\n",
    "4. Reemplace todos los espacios recurrentes por un solo espacio dentro del fichero\n",
    "contenidos.txt ordenado alfabéticamente.\n",
    "\n",
    "`sort contents.txt | tr -s \" \"`\n",
    "\n",
    "5. En una línea de comando, elimine los espacios recurrentes (como se hizo en el ejercicio\n",
    "anterior), seleccione el noveno campo y ordénelo alfabéticamente y sin distinción entre\n",
    "mayúsculas y minúsculas. ¿Cuántas \"pipes\" tuviste que usar?\n",
    "\n",
    "`cat contents.txt | tr -s \" \" | cut -f 9 -d \" \" | sort -fr`\n",
    "\n",
    "- Hemos usado como se puede ver 3 pipes"
   ]
  },
  {
   "attachments": {},
   "cell_type": "markdown",
   "metadata": {},
   "source": [
    "## Resumen\n",
    "\n",
    "En esta lección, usted aprendió:\n",
    "\n",
    "- Tipos de redirección\n",
    "- ¿Cómo usar los operadores de redirección?\n",
    "- ¿Cómo usar tuberías para filtrar la salida de comandos?\n",
    "\n",
    "Comandos usados en esta lección:\n",
    "\n",
    "- `cut`\n",
    "Elimina secciones de cada línea de un fichero.\n",
    "- `cat`\n",
    "Muestra o concatena ficheros.\n",
    "- `find`\n",
    "Busca ficheros en una jerarquía de directorios.\n",
    "- `less`\n",
    "Muestra el contenido de un fichero, lo que permite al usuario desplazarse línea a línea.\n",
    "- `more`\n",
    "Muestra el contenido de un fichero, página a página.\n",
    "- `head`\n",
    "Muestra las primeras 10 líneas de un fichero.\n",
    "- `tail`\n",
    "Muestra las últimas 10 líneas de un fichero.\n",
    "- `sort`\n",
    "Ordena ficheros.\n",
    "- `wc`\n",
    "Cuenta de forma predeterminada las líneas, palabras o bytes de un fichero."
   ]
  }
 ],
 "metadata": {
  "language_info": {
   "name": "python"
  },
  "orig_nbformat": 4
 },
 "nbformat": 4,
 "nbformat_minor": 2
}
