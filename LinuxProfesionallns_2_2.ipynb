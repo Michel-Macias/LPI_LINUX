{
 "cells": [
  {
   "attachments": {},
   "cell_type": "markdown",
   "metadata": {},
   "source": [
    "# 2.3 Uso de directorios y listado de archivos\n",
    "\n",
    "#### Resumen\n",
    "\n",
    "Áreas de conocimiento clave\n",
    "- Archivos y directorios\n",
    "- Archivos ocultos y directorios\n",
    "- Directorios home\n",
    "- Rutas absolutas y relativas\n",
    "Lista parcial de archivos, términos y utilidades\n",
    "- Opciones comunes para el comando ls\n",
    "- Listados recursivos\n",
    "- cd\n",
    "- . y ..\n",
    "\n",
    "- home y ~\n",
    "\n",
    "#### Ejercicios guiados\n",
    "\n",
    "## 1- Para cada una de las siguientes rutas, identifique si es absoluta o relativa:\n",
    "\n",
    "| /home/user/Downloads | Ruta absoluta |\n",
    "\n",
    "| ../Reports | Rura relativa |\n",
    "\n",
    "| /var | Absoluta |\n",
    "\n",
    "| docs | Relativa |\n",
    "\n",
    "| / | Absoluta |"
   ]
  }
 ],
 "metadata": {
  "language_info": {
   "name": "python"
  },
  "orig_nbformat": 4
 },
 "nbformat": 4,
 "nbformat_minor": 2
}
